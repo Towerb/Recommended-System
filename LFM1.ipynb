{
 "cells": [
  {
   "cell_type": "code",
   "execution_count": 1,
   "metadata": {},
   "outputs": [],
   "source": [
    "#coding = utf-8\n",
    "import pandas as pd\n",
    "import numpy as np\n",
    "import math \n",
    "import random\n",
    "import pickle\n",
    "import os\n",
    "import csv"
   ]
  },
  {
   "cell_type": "code",
   "execution_count": 2,
   "metadata": {},
   "outputs": [],
   "source": [
    "root = r'C:\\Users\\Evilemon\\Desktop\\recommender\\exam\\qunar_jd_comment'\n",
    "result = r'C:\\Users\\Evilemon\\Desktop\\recommender\\exam\\result'"
   ]
  },
  {
   "cell_type": "code",
   "execution_count": 86,
   "metadata": {},
   "outputs": [],
   "source": [
    "def ItemUserMatrix(root,result):\n",
    "    user_dict = dict()              # user_id 的数据字典\n",
    "    jd_dict = dict()                #jd_poi 的数据字典\n",
    "    jd_users_dict = dict()          #每个jd 对应的 去旅游过并进行评论过的用户的id\n",
    "    user_jds_dict = dict()          #每个user去过并评论的jd的poi\n",
    "    n = 0                           # user_id 的数据字典中的数字排序\n",
    "    m = -1                          #jd_poi 的数据字典中的数字排序\n",
    "    mat = np.full((30000,3000),0.65)   #每一行代表用户对几个景点的评分数据\n",
    "    rpath = os.path.join(root, 'new1.csv')\n",
    "    with open(rpath, 'rb') as cf:                                                                    \n",
    "        df = pd.DataFrame(pd.read_csv(cf, encoding=\"unicode_escape\", lineterminator= '\\n'))\n",
    "    M = df.as_matrix()      #将Dataframe数据转换为矩阵形式\n",
    "    for x in range(len(M)):\n",
    "        jd = str(M[x][2])     #将每个景点的jd_poi提取出来并转换成字符串       \n",
    "        if jd not in jd_dict.keys():\n",
    "            m += 1\n",
    "            jd_dict[jd] = m\n",
    "        #创建jd_users_dict字典\n",
    "        if m not in jd_users_dict.keys():                                                          \n",
    "            jd_users_dict[m] = set()\n",
    "                #读取user_id并传换成字符串，同时向jd_users_dict中添加用户\n",
    "            I = str(M[x][0])\n",
    "            if I not in user_jds_dict.keys():\n",
    "                user_jds_dict[n] = set()\n",
    "            #user数据字典赋值，并且对mat赋值\n",
    "            if I not in user_dict.keys():                                                           \n",
    "                user_dict[I] = n\n",
    "                jd_users_dict[m].add(n)\n",
    "                user_jds_dict[n].add(m)\n",
    "                a = 0\n",
    "                a = M[x][3]\n",
    "                b = a/5         #用最大值对评分做个正则化\n",
    "                mat[n][m] = b\n",
    "                n += 1\n",
    "                x += 1\n",
    "            else:\n",
    "                c = user_dict[I]\n",
    "                jd_users_dict[m].add(c)\n",
    "                user_jds_dict[c].add(m)\n",
    "                a = 0\n",
    "                a = M[x][3]\n",
    "                b = a/5         #用最大值对评分做个正则化\n",
    "                mat[c][m] = b\n",
    "                x += 1 \n",
    "        else:\n",
    "            I = str(M[x][0])\n",
    "                \n",
    "            if I not in user_jds_dict.keys():\n",
    "                user_jds_dict[n] = set()\n",
    "            #user数据字典赋值，并且对mat赋值\n",
    "            if I not in user_dict.keys():\n",
    "                user_dict[I] = n\n",
    "                jd_users_dict[m].add(n)\n",
    "                user_jds_dict[n].add(m)\n",
    "                a = 0\n",
    "                a = M[x][3]\n",
    "                b = a/5         #用最大值对评分做个正则化\n",
    "                mat[n][m] = b\n",
    "                n += 1\n",
    "                x += 1\n",
    "            else:\n",
    "                c = user_dict[I]\n",
    "                jd_users_dict[m].add(c)\n",
    "                user_jds_dict[c].add(m)\n",
    "                a = 0\n",
    "                a = M[x][3]\n",
    "                b = a/5         #用最大值对评分做个正则化\n",
    "                mat[c][m] = b\n",
    "                x += 1\n",
    "    #将得到的数据写入文件\n",
    "    print(n)\n",
    "    print(m)\n",
    "    user_dict_path = os.path.join(result, 'user_dict')\n",
    "    jd_dict_path = os.path.join(result, 'jd_dict')\n",
    "    jd_users_dict_path = os.path.join(result, 'jd_users_dict')\n",
    "    user_jds_dict_path = os.path.join(result, 'user_jds_dict')\n",
    "    ItemUserMatrix_path = os.path.join(result, 'ItemUserMatrix')\n",
    "   \n",
    "    with open(user_dict_path, 'wb') as uf:\n",
    "        pickle.dump(user_dict, uf)\n",
    "    with open(jd_dict_path, 'wb') as jf:\n",
    "        pickle.dump(jd_dict, jf)\n",
    "    with open(jd_users_dict_path, 'wb') as juf:\n",
    "        pickle.dump(jd_users_dict, juf)\n",
    "    with open(user_jds_dict_path, 'wb') as ujf:\n",
    "        pickle.dump(user_jds_dict, ujf)\n",
    "    np.save(ItemUserMatrix_path,mat)"
   ]
  },
  {
   "cell_type": "code",
   "execution_count": 4,
   "metadata": {},
   "outputs": [],
   "source": [
    "def SelectNagativeSample(user, items,ItemUserMatrix):\n",
    "    ret = dict()\n",
    "    n = 0\n",
    "    for i in items:\n",
    "        ret[i] = 1\n",
    "        n += 1\n",
    "    I = ItemUserMatrix[user].argsort()\n",
    "    for j in I:\n",
    "        if j in items:\n",
    "            continue\n",
    "        ret[j] = 0\n",
    "        n -= 1\n",
    "        if n == 0:\n",
    "            break\n",
    "    return ret"
   ]
  },
  {
   "cell_type": "code",
   "execution_count": 88,
   "metadata": {},
   "outputs": [],
   "source": [
    "def InitModel(result, F):\n",
    "    user_factor_matrix_path = os.path.join(result, 'user_factor_matrix.npy')\n",
    "    jd_factor_matrix_path = os.path.join(result, 'jd_factor_matrix.npy')\n",
    "    ItemUserMatrix_path = os.path.join(result, 'ItemUserMatrix.npy')\n",
    "    \n",
    "    ItemUserMatrix = np.load(ItemUserMatrix_path)\n",
    "    P = np.random.randn(F,len(ItemUserMatrix))  #* 0.01\n",
    "    Q = np.random.randn(F,len(ItemUserMatrix[0])) #* 0.01\n",
    "    \n",
    "    np.save(user_factor_matrix_path, P)\n",
    "    np.save(jd_factor_matrix_path, Q)"
   ]
  },
  {
   "cell_type": "code",
   "execution_count": 3,
   "metadata": {},
   "outputs": [],
   "source": [
    "def predict(user, item, P, Q):\n",
    "    P = np.transpose(P)\n",
    "    r = (P[user] * Q[:,item]).sum() * 0.01\n",
    "    return r"
   ]
  },
  {
   "cell_type": "code",
   "execution_count": 5,
   "metadata": {},
   "outputs": [],
   "source": [
    "def LantentFactorModel(result, N, alpha, l):\n",
    "    \n",
    "    user_jds_dict_path = os.path.join(result, 'user_jds_dict')\n",
    "    ItemUserMatrix_path = os.path.join(result, 'ItemUserMatrix.npy')\n",
    "    user_factor_matrix_path = os.path.join(result, 'user_factor_matrix.npy')\n",
    "    jd_factor_matrix_path = os.path.join(result, 'jd_factor_matrix.npy')\n",
    "    \n",
    "    user_items_dict = np.load(user_jds_dict_path)\n",
    "    ItemUserMatrix = np.load(ItemUserMatrix_path)\n",
    "    P = np.load(user_factor_matrix_path)\n",
    "    Q = np.load(jd_factor_matrix_path)\n",
    "    \n",
    "    for step in range(0,N):\n",
    "        for user,items in user_items_dict.items():\n",
    "            samples = SelectNagativeSample(user, items, ItemUserMatrix)\n",
    "            for item, rui in samples.items():\n",
    "                eui = rui - predict(user, item, P, Q)\n",
    "                for f in range(len(P)):\n",
    "                    P[f][user] += alpha * (eui * Q[f][item] - (l * P[f][user]))\n",
    "                    Q[f][item] += alpha * (eui * P[f][user] - (l * Q[f][item]))\n",
    "        alpha *= 0.9\n",
    "        print(str(step) + 'Done')\n",
    "    \n",
    "    np.save(user_factor_matrix_path, P)\n",
    "    np.save(jd_factor_matrix_path, Q)"
   ]
  },
  {
   "cell_type": "code",
   "execution_count": 104,
   "metadata": {},
   "outputs": [
    {
     "name": "stdout",
     "output_type": "stream",
     "text": [
      "25840\n",
      "2541\n"
     ]
    },
    {
     "ename": "FileNotFoundError",
     "evalue": "[Errno 2] No such file or directory: 'C:\\\\Users\\\\Evilemon\\\\Desktop\\\\recommender\\\\exam\\\\result\\\\ItemUserMatrix'",
     "output_type": "error",
     "traceback": [
      "\u001b[1;31m---------------------------------------------------------------------------\u001b[0m",
      "\u001b[1;31mFileNotFoundError\u001b[0m                         Traceback (most recent call last)",
      "\u001b[1;32m<ipython-input-104-fcea736c579a>\u001b[0m in \u001b[0;36m<module>\u001b[1;34m\u001b[0m\n\u001b[0;32m      1\u001b[0m \u001b[0mItemUserMatrix\u001b[0m\u001b[1;33m(\u001b[0m\u001b[0mroot\u001b[0m\u001b[1;33m,\u001b[0m\u001b[0mresult\u001b[0m\u001b[1;33m)\u001b[0m\u001b[1;33m\u001b[0m\u001b[1;33m\u001b[0m\u001b[0m\n\u001b[0;32m      2\u001b[0m \u001b[0mInitModel\u001b[0m\u001b[1;33m(\u001b[0m\u001b[0mresult\u001b[0m\u001b[1;33m,\u001b[0m \u001b[1;36m100\u001b[0m\u001b[1;33m)\u001b[0m\u001b[1;33m\u001b[0m\u001b[1;33m\u001b[0m\u001b[0m\n\u001b[1;32m----> 3\u001b[1;33m \u001b[0mLantentFactorModel\u001b[0m\u001b[1;33m(\u001b[0m\u001b[0mresult\u001b[0m\u001b[1;33m,\u001b[0m \u001b[1;36m10\u001b[0m\u001b[1;33m,\u001b[0m \u001b[1;36m0.02\u001b[0m\u001b[1;33m,\u001b[0m \u001b[1;36m0.01\u001b[0m\u001b[1;33m)\u001b[0m\u001b[1;33m\u001b[0m\u001b[1;33m\u001b[0m\u001b[0m\n\u001b[0m",
      "\u001b[1;32m<ipython-input-103-ed02e2432b87>\u001b[0m in \u001b[0;36mLantentFactorModel\u001b[1;34m(result, N, alpha, l)\u001b[0m\n\u001b[0;32m      7\u001b[0m \u001b[1;33m\u001b[0m\u001b[0m\n\u001b[0;32m      8\u001b[0m     \u001b[0muser_items_dict\u001b[0m \u001b[1;33m=\u001b[0m \u001b[0mnp\u001b[0m\u001b[1;33m.\u001b[0m\u001b[0mload\u001b[0m\u001b[1;33m(\u001b[0m\u001b[0muser_jds_dict_path\u001b[0m\u001b[1;33m)\u001b[0m\u001b[1;33m\u001b[0m\u001b[1;33m\u001b[0m\u001b[0m\n\u001b[1;32m----> 9\u001b[1;33m     \u001b[0mItemUserMatrix\u001b[0m \u001b[1;33m=\u001b[0m \u001b[0mnp\u001b[0m\u001b[1;33m.\u001b[0m\u001b[0mload\u001b[0m\u001b[1;33m(\u001b[0m\u001b[0mItemUserMatrix_path\u001b[0m\u001b[1;33m)\u001b[0m\u001b[1;33m\u001b[0m\u001b[1;33m\u001b[0m\u001b[0m\n\u001b[0m\u001b[0;32m     10\u001b[0m     \u001b[0mP\u001b[0m \u001b[1;33m=\u001b[0m \u001b[0mnp\u001b[0m\u001b[1;33m.\u001b[0m\u001b[0mload\u001b[0m\u001b[1;33m(\u001b[0m\u001b[0muser_factor_matrix_path\u001b[0m\u001b[1;33m)\u001b[0m\u001b[1;33m\u001b[0m\u001b[1;33m\u001b[0m\u001b[0m\n\u001b[0;32m     11\u001b[0m     \u001b[0mQ\u001b[0m \u001b[1;33m=\u001b[0m \u001b[0mnp\u001b[0m\u001b[1;33m.\u001b[0m\u001b[0mload\u001b[0m\u001b[1;33m(\u001b[0m\u001b[0mjd_factor_matrix_path\u001b[0m\u001b[1;33m)\u001b[0m\u001b[1;33m\u001b[0m\u001b[1;33m\u001b[0m\u001b[0m\n",
      "\u001b[1;32m~\\Anaconda3\\envs\\py3\\lib\\site-packages\\numpy\\lib\\npyio.py\u001b[0m in \u001b[0;36mload\u001b[1;34m(file, mmap_mode, allow_pickle, fix_imports, encoding)\u001b[0m\n\u001b[0;32m    382\u001b[0m     \u001b[0mown_fid\u001b[0m \u001b[1;33m=\u001b[0m \u001b[1;32mFalse\u001b[0m\u001b[1;33m\u001b[0m\u001b[1;33m\u001b[0m\u001b[0m\n\u001b[0;32m    383\u001b[0m     \u001b[1;32mif\u001b[0m \u001b[0misinstance\u001b[0m\u001b[1;33m(\u001b[0m\u001b[0mfile\u001b[0m\u001b[1;33m,\u001b[0m \u001b[0mbasestring\u001b[0m\u001b[1;33m)\u001b[0m\u001b[1;33m:\u001b[0m\u001b[1;33m\u001b[0m\u001b[1;33m\u001b[0m\u001b[0m\n\u001b[1;32m--> 384\u001b[1;33m         \u001b[0mfid\u001b[0m \u001b[1;33m=\u001b[0m \u001b[0mopen\u001b[0m\u001b[1;33m(\u001b[0m\u001b[0mfile\u001b[0m\u001b[1;33m,\u001b[0m \u001b[1;34m\"rb\"\u001b[0m\u001b[1;33m)\u001b[0m\u001b[1;33m\u001b[0m\u001b[1;33m\u001b[0m\u001b[0m\n\u001b[0m\u001b[0;32m    385\u001b[0m         \u001b[0mown_fid\u001b[0m \u001b[1;33m=\u001b[0m \u001b[1;32mTrue\u001b[0m\u001b[1;33m\u001b[0m\u001b[1;33m\u001b[0m\u001b[0m\n\u001b[0;32m    386\u001b[0m     \u001b[1;32melif\u001b[0m \u001b[0mis_pathlib_path\u001b[0m\u001b[1;33m(\u001b[0m\u001b[0mfile\u001b[0m\u001b[1;33m)\u001b[0m\u001b[1;33m:\u001b[0m\u001b[1;33m\u001b[0m\u001b[1;33m\u001b[0m\u001b[0m\n",
      "\u001b[1;31mFileNotFoundError\u001b[0m: [Errno 2] No such file or directory: 'C:\\\\Users\\\\Evilemon\\\\Desktop\\\\recommender\\\\exam\\\\result\\\\ItemUserMatrix'"
     ]
    }
   ],
   "source": [
    "ItemUserMatrix(root,result)\n",
    "InitModel(result, 100)"
   ]
  },
  {
   "cell_type": "code",
   "execution_count": 6,
   "metadata": {},
   "outputs": [
    {
     "name": "stdout",
     "output_type": "stream",
     "text": [
      "0Done\n",
      "1Done\n",
      "2Done\n",
      "3Done\n",
      "4Done\n",
      "5Done\n",
      "6Done\n",
      "7Done\n",
      "8Done\n",
      "9Done\n"
     ]
    }
   ],
   "source": [
    "LantentFactorModel(result, 10, 0.02, 0.01)"
   ]
  }
 ],
 "metadata": {
  "kernelspec": {
   "display_name": "Python 3",
   "language": "python",
   "name": "python3"
  },
  "language_info": {
   "codemirror_mode": {
    "name": "ipython",
    "version": 3
   },
   "file_extension": ".py",
   "mimetype": "text/x-python",
   "name": "python",
   "nbconvert_exporter": "python",
   "pygments_lexer": "ipython3",
   "version": "3.6.7"
  }
 },
 "nbformat": 4,
 "nbformat_minor": 2
}
