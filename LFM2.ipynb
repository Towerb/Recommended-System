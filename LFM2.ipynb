{
 "cells": [
  {
   "cell_type": "code",
   "execution_count": 15,
   "metadata": {},
   "outputs": [],
   "source": [
    "#coding = utf-8\n",
    "import pandas as pd\n",
    "import numpy as np\n",
    "import math \n",
    "import random\n",
    "import pickle\n",
    "import os\n",
    "import csv\n"
   ]
  },
  {
   "cell_type": "code",
   "execution_count": 16,
   "metadata": {},
   "outputs": [],
   "source": [
    "result = r'C:\\Users\\Evilemon\\Desktop\\recommender\\exam\\result'"
   ]
  },
  {
   "cell_type": "code",
   "execution_count": 18,
   "metadata": {},
   "outputs": [],
   "source": [
    "def Recommendation(user_ID, K, result):\n",
    "    \n",
    "    user_id = user_ID.join('.0')\n",
    "    print(user_id)\n",
    "    jd_dict_path = os.path.join(result, 'jd_dict')\n",
    "    user_dict_path = os.path.join(result, 'user_dict')\n",
    "    user_factor_matrix_path = os.path.join(result, 'user_factor_matrix.npy')\n",
    "    jd_factor_matrix_path = os.path.join(result, 'jd_factor_matrix.npy')\n",
    "    \n",
    "    jd_dict = np.load(jd_dict_path)\n",
    "    user_dict = np.load(user_dict_path)\n",
    "    P = np.load(user_factor_matrix_path)\n",
    "    Q = np.load(jd_factor_matrix_path)\n",
    "\n",
    "    user = random.randint(0,1000)\n",
    "    for k, v in user_dict.items():\n",
    "        if str(k) == user_id:\n",
    "            user = v\n",
    "        \n",
    "    rank = dict()\n",
    "    for i in range(2541):\n",
    "        rank[i] = (np.multiply(P[:,user], Q[:,i])).sum()\n",
    "    a = zip(rank.values(), rank.keys())\n",
    "    b = list(sorted(a, reverse = True))   \n",
    "    c = b[0:K]\n",
    "    rank = list()\n",
    "    for m in range(K):\n",
    "        jn = c[m][1]\n",
    "        for k, v in jd_dict.items():\n",
    "            if v == jn:\n",
    "                K = k[:-2]\n",
    "                rank.append(K)\n",
    "    return rank"
   ]
  },
  {
   "cell_type": "code",
   "execution_count": 27,
   "metadata": {},
   "outputs": [
    {
     "name": "stdout",
     "output_type": "stream",
     "text": [
      ".1r0\n",
      "['704127', '710545', '702719', '706190', '713994', '714791', '715470', '7475306', '5257837', '711995', '708991', '710603', '704630', '715478', '716377', '722948', '713871', '713204', '710170', '704600']\n"
     ]
    }
   ],
   "source": [
    "rank = Recommendation('1r', 20, result)\n",
    "print(rank)"
   ]
  }
 ],
 "metadata": {
  "kernelspec": {
   "display_name": "Python 3",
   "language": "python",
   "name": "python3"
  },
  "language_info": {
   "codemirror_mode": {
    "name": "ipython",
    "version": 3
   },
   "file_extension": ".py",
   "mimetype": "text/x-python",
   "name": "python",
   "nbconvert_exporter": "python",
   "pygments_lexer": "ipython3",
   "version": "3.6.7"
  }
 },
 "nbformat": 4,
 "nbformat_minor": 2
}
